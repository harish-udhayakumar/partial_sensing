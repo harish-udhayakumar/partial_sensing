{
 "cells": [
  {
   "cell_type": "markdown",
   "metadata": {},
   "source": [
    "# Partial Sensing"
   ]
  },
  {
   "cell_type": "code",
   "execution_count": 40,
   "metadata": {},
   "outputs": [],
   "source": [
    "%run A-star.ipynb"
   ]
  },
  {
   "cell_type": "code",
   "execution_count": 41,
   "metadata": {},
   "outputs": [],
   "source": [
    "dim=5\n",
    "p=0.3\n",
    "full_gridworld = []\n",
    "agent_gridworld = [] # known gridworld\n",
    "helper_matrix = []"
   ]
  },
  {
   "cell_type": "code",
   "execution_count": 42,
   "metadata": {},
   "outputs": [],
   "source": [
    "def initialize_agent_gridworld():\n",
    "    #blah\n",
    "    return"
   ]
  },
  {
   "cell_type": "code",
   "execution_count": 43,
   "metadata": {},
   "outputs": [],
   "source": [
    "def initialize_helper_matrix():\n",
    "    return"
   ]
  },
  {
   "cell_type": "code",
   "execution_count": 44,
   "metadata": {},
   "outputs": [],
   "source": [
    "def initialize_all_matrices(dim,p):\n",
    "    global full_gridworld\n",
    "    global helper_matrix\n",
    "    global agent_gridworld\n",
    "    initialize(dim,p)\n",
    "    full_gridworld = block_unblock_matrix\n",
    "    agent_gridworld = initialize_agent_gridworld()\n",
    "    helper_matrix = initialize_helper_matrix()\n",
    "initialize_all_matrices(dim,p)"
   ]
  },
  {
   "cell_type": "code",
   "execution_count": 47,
   "metadata": {},
   "outputs": [],
   "source": [
    "def inference_astar():\n",
    "    source = (0,0,0)\n",
    "    _,_,_,path = astar(source,agent_gridworld)\n",
    "    goal_reached = False\n",
    "    \n",
    "    \n",
    "    while not goal_reached:\n",
    "        for node in path:\n",
    "            if full_gridworld[node] == 0:\n",
    "                #do something\n",
    "                break\n",
    "            else:\n",
    "                #do something\n",
    "                break\n",
    "    return"
   ]
  },
  {
   "cell_type": "code",
   "execution_count": null,
   "metadata": {},
   "outputs": [],
   "source": []
  }
 ],
 "metadata": {
  "kernelspec": {
   "display_name": "Python 3",
   "language": "python",
   "name": "python3"
  },
  "language_info": {
   "codemirror_mode": {
    "name": "ipython",
    "version": 3
   },
   "file_extension": ".py",
   "mimetype": "text/x-python",
   "name": "python",
   "nbconvert_exporter": "python",
   "pygments_lexer": "ipython3",
   "version": "3.8.5"
  }
 },
 "nbformat": 4,
 "nbformat_minor": 4
}
