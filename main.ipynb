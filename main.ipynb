{
 "cells": [
  {
   "cell_type": "markdown",
   "metadata": {},
   "source": [
    "# Partial Sensing"
   ]
  },
  {
   "cell_type": "markdown",
   "metadata": {},
   "source": [
    "# About this file\n",
    "\n",
    "This file is to use the functionalities of the classes defined in the other file.\n",
    "\n",
    "## Things to be done here\n",
    "\n",
    "1) write algorithm for agent3, agent4 <br>\n",
    "2) if object_matrix is knowledge base, then lets rename it to knowledge base to avoid confusion and have unambiguous variable names.<br>\n",
    "3) Import A* code into this file.\n",
    "\n",
    "## Things done here\n",
    "\n",
    "1) declared the set of global variables required\n",
    "2) renamed object_matrix to knowledge_base"
   ]
  },
  {
   "cell_type": "code",
   "execution_count": 1,
   "metadata": {},
   "outputs": [],
   "source": [
    "from ipynb.fs.full.project1 import *\n",
    "import numpy as np\n",
    "from ipynb.fs.full.partial_sensing import *"
   ]
  },
  {
   "cell_type": "code",
   "execution_count": 2,
   "metadata": {},
   "outputs": [],
   "source": [
    "maze_size = 10\n",
    "probability = 0.3\n",
    "global agent_gridworld\n",
    "global helper_matrix\n",
    "global helper_matrix\n",
    "global full_grid_world_matrix\n",
    "global visited_list\n",
    "global path\n",
    "global number_of_bumps\n",
    "global knowledge_base\n",
    "global expression_list\n",
    "global infered_list\n",
    "\n",
    "visited_list = []\n",
    "infered_list = []\n",
    "expression_list = []\n",
    "number_of_bumps = 0\n",
    "agent_gridworld = np.matrix(np.zeros((maze_size, maze_size)))\n",
    "confirmed_path = [] #path that agent 3 has recognized\n",
    "helper_matrix = np.full((maze_size, maze_size), 0)\n",
    "full_grid_world_matrix = np.full((maze_size, maze_size), 0)\n",
    "\n",
    "# knowledge_base is used to store the inference/ knowledge base of objects(nodes) with it's respective indices\n",
    "knowledge_base = np.array([partial_sensing(int(item/maze_size),item%maze_size,maze_size) for item in range(maze_size * maze_size)]).reshape(maze_size, maze_size)\n"
   ]
  },
  {
   "cell_type": "code",
   "execution_count": 3,
   "metadata": {},
   "outputs": [
    {
     "data": {
      "text/plain": [
       "<matplotlib.image.AxesImage at 0x22e2edec6a0>"
      ]
     },
     "execution_count": 3,
     "metadata": {},
     "output_type": "execute_result"
    },
    {
     "data": {
      "image/png": "[encoded data removed]",
      "text/plain": [
       "<Figure size 432x288 with 1 Axes>"
      ]
     },
     "metadata": {
      "needs_background": "light"
     },
     "output_type": "display_data"
    }
   ],
   "source": [
    "# full_grid_world_matrix = populateMatrix(maze_size, probability)\n",
    "\n",
    "#### Use either the above line in the block or the below set of lines of code to get the full grid world\n",
    "\n",
    "full_grid_world_matrix = [[0, 0, 0, 1, 1, 0, 0, 1, 0, 0],\n",
    "        [0, 1, 0, 1, 0, 0, 0, 0, 0, 0],\n",
    "        [0, 0, 0, 0, 0, 1, 0, 0, 0, 0],\n",
    "        [0, 1, 0, 0, 0, 0, 0, 0, 1, 0],\n",
    "        [1, 1, 1, 1, 0, 1, 0, 0, 0, 0],\n",
    "        [0, 1, 0, 0, 1, 1, 0, 0, 0, 1],\n",
    "        [0, 0, 0, 0, 0, 1, 0, 1, 0, 1],\n",
    "        [1, 1, 1, 0, 0, 0, 1, 1, 0, 0],\n",
    "        [0, 0, 0, 0, 0, 0, 0, 0, 0, 0],\n",
    "        [0, 0, 0, 0, 1, 1, 0, 0, 0, 0]]\n",
    "\n",
    "full_grid_world_matrix = np.matrix(full_grid_world_matrix)\n",
    "plt.spy(full_grid_world_matrix)"
   ]
  },
  {
   "cell_type": "code",
   "execution_count": 4,
   "metadata": {},
   "outputs": [],
   "source": [
    "def blockedNeighbors(n, row, col):\n",
    "    \n",
    "    global full_grid_world_matrix\n",
    "    direction_list = [[-1, 0], [1, 0], [1, 1], [1, -1], [-1, -1], [-1, 1], [0, 1], [0, -1]]\n",
    "    \n",
    "    count = 0\n",
    "    for direction in direction_list:\n",
    "        row_new = row + direction[0]\n",
    "        col_new = col + direction[1]\n",
    "        if (row_new>=0 and row_new<=(n-1)) and (col_new>=0 and col_new<=(n-1)):\n",
    "            if full_grid_world_matrix[row_new, col_new] == 1:\n",
    "                count += 1\n",
    "    return count\n",
    "\n",
    "def initialize_helper_matrix(n):\n",
    "    dir = [[-1, 0], [1, 0], [1, 1], [1, -1], [-1, -1], [-1, 1], [0, 1], [0, -1]]\n",
    "    global helper_matrix\n",
    "    for x in range(n):\n",
    "        for y in range(n):\n",
    "            count = blockedNeighbors(n, x, y)\n",
    "            helper_matrix[x][y] = count\n"
   ]
  },
  {
   "cell_type": "code",
   "execution_count": 5,
   "metadata": {},
   "outputs": [],
   "source": [
    "def initialize_all_matrices(dim):\n",
    "    global knowledge_base\n",
    "    initialize_helper_matrix(maze_size)\n",
    "    # initializing getNx\n",
    "    for i in range(maze_size):\n",
    "        for j in range(maze_size):\n",
    "            knowledge_base[i][j].Nx = getNx(i, j, maze_size)\n",
    "            knowledge_base[i][j].Cx = helper_matrix[i][j]"
   ]
  },
  {
   "cell_type": "code",
   "execution_count": 6,
   "metadata": {},
   "outputs": [],
   "source": [
    "def get_agent_gridworld_from_knowledge_base(object_matrix):\n",
    "    global maze_size\n",
    "\n",
    "    agent_gridworld = np.zeros((maze_size, maze_size))\n",
    "    for i in range(maze_size):\n",
    "        for j in range(maze_size):\n",
    "            if object_matrix.item((i,j)).blocked == 1:\n",
    "                agent_gridworld[i][j] = 1\n",
    "    return agent_gridworld"
   ]
  },
  {
   "cell_type": "code",
   "execution_count": 7,
   "metadata": {},
   "outputs": [],
   "source": [
    "def getNx(row, col, n):\n",
    "    if (row ==0  and col == 0) or (row == 0 and col == n-1) or (row==n-1 and col==0) or (row ==n-1 and col==n-1):\n",
    "        return 3\n",
    "    \n",
    "    elif row == 0 or col == 0 or col == n-1 or row == n-1:\n",
    "        return 5\n",
    "    else:\n",
    "        return 8"
   ]
  },
  {
   "cell_type": "code",
   "execution_count": 8,
   "metadata": {},
   "outputs": [],
   "source": [
    "def get_neighbors(row, col, n):\n",
    "    #top left node\n",
    "    if (row ==0  and col == 0) :\n",
    "        return [(row+1, col), (row, col+1), (row+1, col+1)]\n",
    "    \n",
    "    #top right node\n",
    "    elif (row == 0 and col == n-1):\n",
    "        return [(row, col-1), (row+1, col), (row+1, col-1)]\n",
    "    \n",
    "    #bottom left node\n",
    "    elif (row==n-1 and col==0):\n",
    "        return [(row-1, col), (row, col+1), (row-1, col+1)]\n",
    "    \n",
    "    #bottom right node\n",
    "    elif (row ==n-1 and col==n-1):\n",
    "        return [(row-1, col-1), (row, col-1), (row-1, col-1)]\n",
    "\n",
    "    # top edge nodes\n",
    "    elif row == 0:\n",
    "        return [(row, col-1), (row+1, col-1), (row+1, col), (row+1, col+1), (row, col+1)]\n",
    "    \n",
    "    # bottom edge nodes\n",
    "    elif row == n-1:\n",
    "        return [(row, col-1), (row-1, col-1), (row-1, col), (row-1, col+1), (row, col+1)]\n",
    "    \n",
    "    # left edge nodes\n",
    "    elif col == 0:\n",
    "        return [(row-1, col), (row-1, col+1), (row, col+1), (row+1, col+1), (row+1, col)]\n",
    "    \n",
    "    # right edge nodes\n",
    "    elif col == n-1:\n",
    "        return [(row-1, col), (row-1, col-1), (row, col-1), (row+1, col-1), (row+1, col)]\n",
    "    else:\n",
    "        return [(row-1, col-1), (row, col-1), (row+1, col-1), (row+1, col), (row+1, col+1),\\\n",
    "               (row, col+1), (row-1, col+1), (row-1, col)]\n",
    "    \n"
   ]
  },
  {
   "cell_type": "markdown",
   "metadata": {},
   "source": [
    "# Code for Agent 4 goes here"
   ]
  },
  {
   "cell_type": "code",
   "execution_count": 10,
   "metadata": {},
   "outputs": [],
   "source": [
    "def agent4(maze_size, source): # using this name for the lack of a better name. please change.\n",
    "    global visited_list\n",
    "    global number_of_bumps\n",
    "    global knowledge_base\n",
    "    global agent_gridworld\n",
    "    global full_grid_world_matrix\n",
    "    global confirmed_path\n",
    "    global infered_list\n",
    "    global expression_list\n",
    "    global number_of_bumps\n",
    "    global confirmed_path\n",
    "\n",
    "#     source = (0,0,0)\n",
    "    _,_,_,path = astar(source,agent_gridworld)\n",
    "    path = path[::-1]\n",
    "    print('path', path)\n",
    "    if path == []:\n",
    "        goal_reached = False\n",
    "        return visited_list, number_of_bumps, infered_list, goal_reached\n",
    "    goal_reached = False\n",
    "    knowledge_base[0][0].blocked = 0\n",
    "    i = 0\n",
    "\n",
    "    for node in path:\n",
    "        print(\"___________________________________________________________________________________________\")\n",
    "        print(\"The current node is: \", node)\n",
    "        row = node[0]\n",
    "        col = node[1]\n",
    "        \n",
    "        # terminate the program if we reach the goal node\n",
    "        if (row, col) == (maze_size - 1, maze_size - 1):\n",
    "            goal_reached = True\n",
    "            print(\"goal reached\")\n",
    "            visited_list.append((row,col))\n",
    "            confirmed_path.append((row,col))\n",
    "            return visited_list, number_of_bumps, infered_list, goal_reached\n",
    "        \n",
    "        # retrieve the respective object from knowledge base\n",
    "        node_object = knowledge_base[row][col]\n",
    "        node_object.blocked = full_grid_world_matrix.item((row, col))\n",
    "        if node_object.blocked == 0:\n",
    "            previously_unblocked_node = (row,col)\n",
    "        \n",
    "        # if the current node isn't visited previously then add it to visited list and trajectory path\n",
    "        if ((row,col)) not in visited_list:\n",
    "            visited_list.append((row,col))\n",
    "            confirmed_path.append((row,col))\n",
    "            print(visited_list)\n",
    "\n",
    "        #if node is blocked, update the agent grid world and run inference engine with the current node's blocked status\n",
    "        # recursively call the agent4 function to fetch an alternative path to goal node\n",
    "        if node_object.blocked == 1:\n",
    "            if not ((row, col)) in infered_list:\n",
    "                number_of_bumps += 1\n",
    "            print(row, col, \"is blocked\")\n",
    "            agent_gridworld.itemset((row, col), 1)\n",
    "            node_object.visited = True\n",
    "            knowledge_base, infered_list, expression_list, agent_gridworld  = node_object.inference_engine(visited_list, infered_list, knowledge_base, expression_list, agent_gridworld)\n",
    "            confirmed_path.remove((row,col))\n",
    "            visited_list, number_of_bumps, infered_list, goal_reached = agent4(maze_size, previously_unblocked_node + (0,))\n",
    "            if goal_reached == True:\n",
    "                return confirmed_path, number_of_bumps, infered_list, goal_reached\n",
    "        \n",
    "        else:\n",
    "            # this block runs if the node is free, it updates the knowledge base and runs the inference engine\n",
    "            print(row, col, \"is free\")\n",
    "            neighborlist = get_neighbors(row, col, maze_size)\n",
    "            node_object.neighbor_list = neighborlist\n",
    "            knowledge_base, infered_list,expression_list, agent_gridworld  = node_object.inference_engine(visited_list, infered_list, knowledge_base, expression_list, agent_gridworld)\n",
    "        node_object.visited = True\n",
    "        print('infered_list',infered_list)\n",
    "        i+=1\n",
    "#         if i == 4:\n",
    "#             break\n",
    "\n",
    "    return confirmed_path, number_of_bumps, infered_list, goal_reached"
   ]
  },
  {
   "cell_type": "markdown",
   "metadata": {},
   "source": [
    "# Main function"
   ]
  },
  {
   "cell_type": "code",
   "execution_count": 11,
   "metadata": {
    "scrolled": true
   },
   "outputs": [
    {
     "name": "stdout",
     "output_type": "stream",
     "text": [
      "path [(0, 0), (0, 1), (1, 1), (2, 1), (3, 1), (4, 1), (5, 1), (6, 1), (7, 1), (8, 1), (9, 1), (9, 2), (9, 3), (9, 4), (9, 5), (9, 6), (9, 7), (9, 8), (9, 9)]\n",
      "___________________________________________________________________________________________\n",
      "The current node is:  (0, 0)\n",
      "[(0, 0)]\n",
      "0 0 is free\n",
      "infered_list []\n",
      "___________________________________________________________________________________________\n",
      "The current node is:  (0, 1)\n",
      "[(0, 0), (0, 1)]\n",
      "0 1 is free\n",
      "infered_list []\n",
      "___________________________________________________________________________________________\n",
      "The current node is:  (1, 1)\n",
      "[(0, 0), (0, 1), (1, 1)]\n",
      "1 1 is blocked\n",
      "path [(0, 1), (0, 2), (0, 3), (1, 3), (2, 3), (3, 3), (4, 3), (5, 3), (6, 3), (7, 3), (8, 3), (9, 3), (9, 4), (9, 5), (9, 6), (9, 7), (9, 8), (9, 9)]\n",
      "___________________________________________________________________________________________\n",
      "The current node is:  (0, 1)\n",
      "0 1 is free\n",
      "Infered the node is:  node(10)\n",
      "infered_list [(1, 0)]\n",
      "___________________________________________________________________________________________\n",
      "The current node is:  (0, 2)\n",
      "[(0, 0), (0, 1), (1, 1), (0, 2)]\n",
      "0 2 is free\n",
      "Infered the node is:  node(12)\n",
      "infered_list [(1, 0), (1, 2)]\n",
      "___________________________________________________________________________________________\n",
      "The current node is:  (0, 3)\n",
      "[(0, 0), (0, 1), (1, 1), (0, 2), (0, 3)]\n",
      "0 3 is blocked\n",
      "path [(0, 2), (1, 2), (1, 3), (2, 3), (3, 3), (4, 3), (5, 3), (6, 3), (7, 3), (8, 3), (9, 3), (9, 4), (9, 5), (9, 6), (9, 7), (9, 8), (9, 9)]\n",
      "___________________________________________________________________________________________\n",
      "The current node is:  (0, 2)\n",
      "0 2 is free\n",
      "Infered the node is:  node(13) - 1\n",
      "infered_list [(1, 0), (1, 2), (1, 3)]\n",
      "___________________________________________________________________________________________\n",
      "The current node is:  (1, 2)\n",
      "[(0, 0), (0, 1), (1, 1), (0, 2), (0, 3), (1, 2)]\n",
      "1 2 is free\n",
      "infered_list [(1, 0), (1, 2), (1, 3)]\n",
      "___________________________________________________________________________________________\n",
      "The current node is:  (1, 3)\n",
      "[(0, 0), (0, 1), (1, 1), (0, 2), (0, 3), (1, 2), (1, 3)]\n",
      "1 3 is blocked\n",
      "path [(1, 2), (2, 2), (2, 3), (3, 3), (4, 3), (5, 3), (6, 3), (7, 3), (8, 3), (9, 3), (9, 4), (9, 5), (9, 6), (9, 7), (9, 8), (9, 9)]\n",
      "___________________________________________________________________________________________\n",
      "The current node is:  (1, 2)\n",
      "1 2 is free\n",
      "infered_list [(1, 0), (1, 2), (1, 3)]\n",
      "___________________________________________________________________________________________\n",
      "The current node is:  (2, 2)\n",
      "[(0, 0), (0, 1), (1, 1), (0, 2), (0, 3), (1, 2), (1, 3), (2, 2)]\n",
      "2 2 is free\n",
      "infered_list [(1, 0), (1, 2), (1, 3)]\n",
      "___________________________________________________________________________________________\n",
      "The current node is:  (2, 3)\n",
      "[(0, 0), (0, 1), (1, 1), (0, 2), (0, 3), (1, 2), (1, 3), (2, 2), (2, 3)]\n",
      "2 3 is free\n",
      "Infered the node is:  node(21) - 1\n",
      "infered_list [(1, 0), (1, 2), (1, 3), (2, 1)]\n",
      "___________________________________________________________________________________________\n",
      "The current node is:  (3, 3)\n",
      "[(0, 0), (0, 1), (1, 1), (0, 2), (0, 3), (1, 2), (1, 3), (2, 2), (2, 3), (3, 3)]\n",
      "3 3 is free\n",
      "infered_list [(1, 0), (1, 2), (1, 3), (2, 1)]\n",
      "___________________________________________________________________________________________\n",
      "The current node is:  (4, 3)\n",
      "[(0, 0), (0, 1), (1, 1), (0, 2), (0, 3), (1, 2), (1, 3), (2, 2), (2, 3), (3, 3), (4, 3)]\n",
      "4 3 is blocked\n",
      "path [(3, 3), (3, 4), (3, 5), (4, 5), (5, 5), (6, 5), (7, 5), (8, 5), (9, 5), (9, 6), (9, 7), (9, 8), (9, 9)]\n",
      "___________________________________________________________________________________________\n",
      "The current node is:  (3, 3)\n",
      "3 3 is free\n",
      "infered_list [(1, 0), (1, 2), (1, 3), (2, 1)]\n",
      "___________________________________________________________________________________________\n",
      "The current node is:  (3, 4)\n",
      "[(0, 0), (0, 1), (1, 1), (0, 2), (0, 3), (1, 2), (1, 3), (2, 2), (2, 3), (3, 3), (4, 3), (3, 4)]\n",
      "3 4 is free\n",
      "infered_list [(1, 0), (1, 2), (1, 3), (2, 1)]\n",
      "___________________________________________________________________________________________\n",
      "The current node is:  (3, 5)\n",
      "[(0, 0), (0, 1), (1, 1), (0, 2), (0, 3), (1, 2), (1, 3), (2, 2), (2, 3), (3, 3), (4, 3), (3, 4), (3, 5)]\n",
      "3 5 is free\n",
      "infered_list [(1, 0), (1, 2), (1, 3), (2, 1)]\n",
      "___________________________________________________________________________________________\n",
      "The current node is:  (4, 5)\n",
      "[(0, 0), (0, 1), (1, 1), (0, 2), (0, 3), (1, 2), (1, 3), (2, 2), (2, 3), (3, 3), (4, 3), (3, 4), (3, 5), (4, 5)]\n",
      "4 5 is blocked\n",
      "path [(3, 5), (3, 6), (3, 7), (4, 7), (5, 7), (6, 7), (7, 7), (8, 7), (9, 7), (9, 8), (9, 9)]\n",
      "___________________________________________________________________________________________\n",
      "The current node is:  (3, 5)\n",
      "3 5 is free\n",
      "infered_list [(1, 0), (1, 2), (1, 3), (2, 1)]\n",
      "___________________________________________________________________________________________\n",
      "The current node is:  (3, 6)\n",
      "[(0, 0), (0, 1), (1, 1), (0, 2), (0, 3), (1, 2), (1, 3), (2, 2), (2, 3), (3, 3), (4, 3), (3, 4), (3, 5), (4, 5), (3, 6)]\n",
      "3 6 is free\n",
      "infered_list [(1, 0), (1, 2), (1, 3), (2, 1)]\n",
      "___________________________________________________________________________________________\n",
      "The current node is:  (3, 7)\n",
      "[(0, 0), (0, 1), (1, 1), (0, 2), (0, 3), (1, 2), (1, 3), (2, 2), (2, 3), (3, 3), (4, 3), (3, 4), (3, 5), (4, 5), (3, 6), (3, 7)]\n",
      "3 7 is free\n",
      "infered_list [(1, 0), (1, 2), (1, 3), (2, 1)]\n",
      "___________________________________________________________________________________________\n",
      "The current node is:  (4, 7)\n",
      "[(0, 0), (0, 1), (1, 1), (0, 2), (0, 3), (1, 2), (1, 3), (2, 2), (2, 3), (3, 3), (4, 3), (3, 4), (3, 5), (4, 5), (3, 6), (3, 7), (4, 7)]\n",
      "4 7 is free\n",
      "infered_list [(1, 0), (1, 2), (1, 3), (2, 1)]\n",
      "___________________________________________________________________________________________\n",
      "The current node is:  (5, 7)\n",
      "[(0, 0), (0, 1), (1, 1), (0, 2), (0, 3), (1, 2), (1, 3), (2, 2), (2, 3), (3, 3), (4, 3), (3, 4), (3, 5), (4, 5), (3, 6), (3, 7), (4, 7), (5, 7)]\n",
      "5 7 is free\n",
      "infered_list [(1, 0), (1, 2), (1, 3), (2, 1)]\n",
      "___________________________________________________________________________________________\n",
      "The current node is:  (6, 7)\n",
      "[(0, 0), (0, 1), (1, 1), (0, 2), (0, 3), (1, 2), (1, 3), (2, 2), (2, 3), (3, 3), (4, 3), (3, 4), (3, 5), (4, 5), (3, 6), (3, 7), (4, 7), (5, 7), (6, 7)]\n",
      "6 7 is blocked\n",
      "path [(5, 7), (5, 8), (5, 9), (6, 9), (7, 9), (8, 9), (9, 9)]\n",
      "___________________________________________________________________________________________\n",
      "The current node is:  (5, 7)\n",
      "5 7 is free\n",
      "infered_list [(1, 0), (1, 2), (1, 3), (2, 1)]\n",
      "___________________________________________________________________________________________\n",
      "The current node is:  (5, 8)\n",
      "[(0, 0), (0, 1), (1, 1), (0, 2), (0, 3), (1, 2), (1, 3), (2, 2), (2, 3), (3, 3), (4, 3), (3, 4), (3, 5), (4, 5), (3, 6), (3, 7), (4, 7), (5, 7), (6, 7), (5, 8)]\n",
      "5 8 is free\n",
      "infered_list [(1, 0), (1, 2), (1, 3), (2, 1)]\n",
      "___________________________________________________________________________________________\n",
      "The current node is:  (5, 9)\n",
      "[(0, 0), (0, 1), (1, 1), (0, 2), (0, 3), (1, 2), (1, 3), (2, 2), (2, 3), (3, 3), (4, 3), (3, 4), (3, 5), (4, 5), (3, 6), (3, 7), (4, 7), (5, 7), (6, 7), (5, 8), (5, 9)]\n",
      "5 9 is blocked\n",
      "path [(5, 8), (6, 8), (6, 9), (7, 9), (8, 9), (9, 9)]\n",
      "___________________________________________________________________________________________\n",
      "The current node is:  (5, 8)\n",
      "5 8 is free\n",
      "infered_list [(1, 0), (1, 2), (1, 3), (2, 1)]\n",
      "___________________________________________________________________________________________\n",
      "The current node is:  (6, 8)\n",
      "[(0, 0), (0, 1), (1, 1), (0, 2), (0, 3), (1, 2), (1, 3), (2, 2), (2, 3), (3, 3), (4, 3), (3, 4), (3, 5), (4, 5), (3, 6), (3, 7), (4, 7), (5, 7), (6, 7), (5, 8), (5, 9), (6, 8)]\n",
      "6 8 is free\n",
      "infered_list [(1, 0), (1, 2), (1, 3), (2, 1)]\n",
      "___________________________________________________________________________________________\n",
      "The current node is:  (6, 9)\n",
      "[(0, 0), (0, 1), (1, 1), (0, 2), (0, 3), (1, 2), (1, 3), (2, 2), (2, 3), (3, 3), (4, 3), (3, 4), (3, 5), (4, 5), (3, 6), (3, 7), (4, 7), (5, 7), (6, 7), (5, 8), (5, 9), (6, 8), (6, 9)]\n",
      "6 9 is blocked\n",
      "path [(6, 8), (7, 8), (7, 9), (8, 9), (9, 9)]\n",
      "___________________________________________________________________________________________\n",
      "The current node is:  (6, 8)\n",
      "6 8 is free\n"
     ]
    },
    {
     "name": "stdout",
     "output_type": "stream",
     "text": [
      "infered node is:  -node(49)\n",
      "infered node is:  -node(49)\n",
      "infered_list [(1, 0), (1, 2), (1, 3), (2, 1), (4, 9), (4, 8)]\n",
      "___________________________________________________________________________________________\n",
      "The current node is:  (7, 8)\n",
      "[(0, 0), (0, 1), (1, 1), (0, 2), (0, 3), (1, 2), (1, 3), (2, 2), (2, 3), (3, 3), (4, 3), (3, 4), (3, 5), (4, 5), (3, 6), (3, 7), (4, 7), (5, 7), (6, 7), (5, 8), (5, 9), (6, 8), (6, 9), (7, 8)]\n",
      "7 8 is free\n",
      "infered_list [(1, 0), (1, 2), (1, 3), (2, 1), (4, 9), (4, 8)]\n",
      "___________________________________________________________________________________________\n",
      "The current node is:  (7, 9)\n",
      "[(0, 0), (0, 1), (1, 1), (0, 2), (0, 3), (1, 2), (1, 3), (2, 2), (2, 3), (3, 3), (4, 3), (3, 4), (3, 5), (4, 5), (3, 6), (3, 7), (4, 7), (5, 7), (6, 7), (5, 8), (5, 9), (6, 8), (6, 9), (7, 8), (7, 9)]\n",
      "7 9 is free\n",
      "Infered the node is:  node(77) - 1\n",
      "infered node is:  -node(89)\n",
      "infered node is:  -node(89)\n",
      "infered_list [(1, 0), (1, 2), (1, 3), (2, 1), (4, 9), (4, 8), (7, 7), (8, 9), (8, 8)]\n",
      "___________________________________________________________________________________________\n",
      "The current node is:  (8, 9)\n",
      "[(0, 0), (0, 1), (1, 1), (0, 2), (0, 3), (1, 2), (1, 3), (2, 2), (2, 3), (3, 3), (4, 3), (3, 4), (3, 5), (4, 5), (3, 6), (3, 7), (4, 7), (5, 7), (6, 7), (5, 8), (5, 9), (6, 8), (6, 9), (7, 8), (7, 9), (8, 9)]\n",
      "8 9 is free\n",
      "Infered the node is:  node(87) - 1\n",
      "infered_list [(1, 0), (1, 2), (1, 3), (2, 1), (4, 9), (4, 8), (7, 7), (8, 9), (8, 8), (8, 7)]\n",
      "___________________________________________________________________________________________\n",
      "The current node is:  (9, 9)\n",
      "goal reached\n"
     ]
    }
   ],
   "source": [
    "initialize_all_matrices(maze_size)\n",
    "path, number_of_bumps, infered_list, goal_reached = agent4(maze_size, (0,0,0))\n",
    "if not goal_reached:\n",
    "    print(\"Goal cannot be reached\")"
   ]
  },
  {
   "cell_type": "code",
   "execution_count": 12,
   "metadata": {},
   "outputs": [
    {
     "name": "stdout",
     "output_type": "stream",
     "text": [
      "Number_of_bumps 7\n",
      "The number of nodes infered:  10\n",
      "Infered_list:  [(1, 0), (1, 2), (1, 3), (2, 1), (4, 9), (4, 8), (7, 7), (8, 9), (8, 8), (8, 7)]\n",
      "NOTE: The infered nodes also include the free nodes that were infered before visiting\n",
      "Trajectory Path [(0, 0), (0, 1), (0, 2), (1, 2), (2, 2), (2, 3), (3, 3), (3, 4), (3, 5), (3, 6), (3, 7), (4, 7), (5, 7), (5, 8), (6, 8), (7, 8), (7, 9), (8, 9), (9, 9)]\n",
      "Trajectory length 19\n"
     ]
    },
    {
     "data": {
      "image/png": "[encoded data removed]",
      "text/plain": [
       "<Figure size 432x288 with 1 Axes>"
      ]
     },
     "metadata": {
      "needs_background": "light"
     },
     "output_type": "display_data"
    }
   ],
   "source": [
    "print('Number_of_bumps', number_of_bumps)\n",
    "print('The number of nodes infered: ', len(infered_list))\n",
    "print('Infered_list: ', infered_list)\n",
    "print(\"NOTE: The infered nodes also include the free nodes that were infered before visiting\")\n",
    "plt.spy(agent_gridworld)\n",
    "print(\"Trajectory Path\", path)\n",
    "print(\"Trajectory length\", len(path))"
   ]
  },
  {
   "cell_type": "code",
   "execution_count": 13,
   "metadata": {},
   "outputs": [
    {
     "data": {
      "image/png": "[encoded data removed]",
      "text/plain": [
       "<Figure size 432x288 with 1 Axes>"
      ]
     },
     "metadata": {
      "needs_background": "light"
     },
     "output_type": "display_data"
    }
   ],
   "source": [
    "path_matrix = np.full((maze_size, maze_size), 0)\n",
    "for i in path:\n",
    "    path_matrix[i] = 1\n",
    "colormap = colors.ListedColormap([\"white\",\"black\",\"green\"])\n",
    "plt.imshow(path_matrix, cmap=colormap)\n",
    "plt.show()"
   ]
  },
  {
   "cell_type": "code",
   "execution_count": 14,
   "metadata": {},
   "outputs": [
    {
     "data": {
      "text/plain": [
       "<matplotlib.image.AxesImage at 0x22e2fdb6d60>"
      ]
     },
     "execution_count": 14,
     "metadata": {},
     "output_type": "execute_result"
    },
    {
     "data": {
      "image/png": "[encoded data removed]",
      "text/plain": [
       "<Figure size 432x288 with 1 Axes>"
      ]
     },
     "metadata": {
      "needs_background": "light"
     },
     "output_type": "display_data"
    }
   ],
   "source": [
    "plt.spy(full_grid_world_matrix)"
   ]
  },
  {
   "cell_type": "code",
   "execution_count": null,
   "metadata": {},
   "outputs": [],
   "source": []
  }
 ],
 "metadata": {
  "kernelspec": {
   "display_name": "Python 3",
   "language": "python",
   "name": "python3"
  },
  "language_info": {
   "codemirror_mode": {
    "name": "ipython",
    "version": 3
   },
   "file_extension": ".py",
   "mimetype": "text/x-python",
   "name": "python",
   "nbconvert_exporter": "python",
   "pygments_lexer": "ipython3",
   "version": "3.8.8"
  }
 },
 "nbformat": 4,
 "nbformat_minor": 4
}
