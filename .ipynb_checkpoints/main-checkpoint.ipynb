{
 "cells": [
  {
   "cell_type": "markdown",
   "metadata": {},
   "source": [
    "# Partial Sensing"
   ]
  },
  {
   "cell_type": "markdown",
   "metadata": {},
   "source": [
    "# About this file\n",
    "\n",
    "This file is to use the functionalities of the classes defined in the other file.\n",
    "\n",
    "## Things to be done here\n",
    "\n",
    "1) write algorithm for agent3, agent4 <br>\n",
    "2) if object_matrix is knowledge base, then lets rename it to knowledge base to avoid confusion and have unambiguous variable names.<br>\n",
    "3) Import A* code into this file.\n",
    "\n",
    "## Things done here\n",
    "\n",
    "1) declared the set of global variables required\n",
    "2) renamed object_matrix to knowledge_base"
   ]
  },
  {
   "cell_type": "code",
   "execution_count": 1,
   "metadata": {},
   "outputs": [],
   "source": [
    "from ipynb.fs.full.project1 import *\n",
    "import numpy as np\n",
    "from ipynb.fs.full.partial_sensing import *"
   ]
  },
  {
   "cell_type": "code",
   "execution_count": 2,
   "metadata": {},
   "outputs": [],
   "source": [
    "maze_size = 10\n",
    "probability = 0.3\n",
    "global agent_matrix\n",
    "global helper_matrix\n",
    "global helper_matrix\n",
    "global full_grid_world_matrix\n",
    "global visited_list\n",
    "\n",
    "# agent_matrix = np.matrix(np.full((maze_size, maze_size), -1))\n",
    "\n",
    "helper_matrix = np.full((maze_size, maze_size), 0)\n",
    "full_grid_world_matrix = np.full((maze_size, maze_size), 0)\n",
    "visited_list = [] # list of node indices that are visited\n",
    "\n",
    "# object_matrix is used to store the inference/ knowledge base of objects(nodes) with it's respective indices\n",
    "knowledge_base = np.array([partial_sensing(int(item/maze_size),item%maze_size,maze_size) for item in range(maze_size * maze_size)]).reshape(maze_size, maze_size)\n"
   ]
  },
  {
   "cell_type": "code",
   "execution_count": 3,
   "metadata": {},
   "outputs": [],
   "source": [
    "# block_unblock_matrix = populateMatrix(maze_size, probability)\n",
    "\n",
    "\n",
    "block_unblock_matrix = [[0, 0, 0, 1, 1, 0, 0, 1, 0, 0],\n",
    "        [0, 1, 0, 1, 0, 0, 0, 0, 0, 0],\n",
    "        [0, 0, 0, 0, 0, 1, 0, 0, 0, 0],\n",
    "        [0, 1, 0, 0, 0, 0, 0, 0, 1, 0],\n",
    "        [1, 1, 1, 0, 0, 1, 0, 0, 0, 0],\n",
    "        [0, 1, 0, 1, 1, 1, 0, 0, 0, 1],\n",
    "        [0, 0, 0, 0, 0, 1, 0, 1, 0, 1],\n",
    "        [1, 1, 1, 0, 0, 0, 1, 1, 0, 0],\n",
    "        [0, 0, 0, 0, 0, 0, 0, 0, 0, 0],\n",
    "        [0, 0, 0, 0, 1, 1, 0, 0, 0, 0]]\n",
    "#######################################\n",
    "populateMatrix(n,p)\n",
    "block_unblock_matrix = np.matrix(block_unblock_matrix)\n"
   ]
  },
  {
   "cell_type": "code",
   "execution_count": 4,
   "metadata": {},
   "outputs": [
    {
     "data": {
      "text/plain": [
       "<matplotlib.image.AxesImage at 0x23a41361a30>"
      ]
     },
     "execution_count": 4,
     "metadata": {},
     "output_type": "execute_result"
    },
    {
     "data": {
      "image/png": "[encoded data removed]",
      "text/plain": [
       "<Figure size 432x288 with 1 Axes>"
      ]
     },
     "metadata": {
      "needs_background": "light"
     },
     "output_type": "display_data"
    }
   ],
   "source": [
    "plt.spy(block_unblock_matrix)\n",
    "[(0, 0), (0, 1), (1, 1), (2, 1), (3, 1), (4, 1), (5, 1), (6, 1), (7, 1), (8, 1), (9, 1), (9, 2), (9, 3), (9, 4), (9, 5), (9, 6), (9, 7), (9, 8), (9, 9)]"
   ]
  },
  {
   "cell_type": "code",
   "execution_count": 5,
   "metadata": {},
   "outputs": [],
   "source": [
    "# dim=5\n",
    "# p=0.3\n",
    "# full_gridworld = []\n",
    "# agent_gridworld = [] # known gridworld\n",
    "# helper_matrix = []"
   ]
  },
  {
   "cell_type": "code",
   "execution_count": 6,
   "metadata": {},
   "outputs": [],
   "source": [
    "def initialize_agent_gridworld():\n",
    "    #blah\n",
    "    return"
   ]
  },
  {
   "cell_type": "code",
   "execution_count": 7,
   "metadata": {},
   "outputs": [],
   "source": [
    "def blockedNeighbors(n, row, col):\n",
    "    \n",
    "    global full_grid_world_matrix\n",
    "    direction_list = [[-1, 0], [1, 0], [1, 1], [1, -1], [-1, -1], [-1, 1], [0, 1], [0, -1]]\n",
    "    \n",
    "    count = 0\n",
    "    if not full_grid_world_matrix == []:\n",
    "        for direction in direction_list:\n",
    "            row_new = row + direction[0]\n",
    "            col_new = col + direction[1]\n",
    "            if (row_new>=0 and row_new<=(n-1)) and (col_new>=0 and col_new<=(n-1)):\n",
    "                if full_grid_world_matrix[row_new, col_new] == 1:\n",
    "                    count += 1\n",
    "    return count\n",
    "\n",
    "def initialize_helper_matrix(n):\n",
    "    \n",
    "    dir = [[-1, 0], [1, 0], [1, 1], [1, -1], [-1, -1], [-1, 1], [0, 1], [0, -1]]\n",
    "    global helper_matrix\n",
    "    for x in range(n):\n",
    "        for y in range(n):\n",
    "            count = blockedNeighbors(n, x, y)\n",
    "            helper_matrix[x][y] = count\n",
    "\n"
   ]
  },
  {
   "cell_type": "code",
   "execution_count": 8,
   "metadata": {},
   "outputs": [],
   "source": [
    "# def initialize_all_matrices(dim,p):\n",
    "# #     global full_gridworld\n",
    "# #     global helper_matrix\n",
    "# #     global agent_gridworld\n",
    "# #     global maze_size\n",
    "# #     global block_unblock_matrix\n",
    "    \n",
    "\n",
    "#     initialize(dim,p)\n",
    "#     full_gridworld = block_unblock_matrix\n",
    "#     agent_gridworld = initialize_agent_gridworld()\n",
    "#     helper_matrix = initialize_helper_matrix(maze_size)\n",
    "# initialize_all_matrices(dim,p)"
   ]
  },
  {
   "cell_type": "code",
   "execution_count": 9,
   "metadata": {},
   "outputs": [],
   "source": [
    "def get_agent_gridworld_from_knowledge_base(object_matrix):\n",
    "    global maze_size\n",
    "\n",
    "    agent_gridworld = np.zeros((maze_size, maze_size))\n",
    "    for i in range(maze_size):\n",
    "        for j in range(maze_size):\n",
    "            if object_matrix.item((i,j)).blocked == 1:\n",
    "                agent_gridworld[i][j] = 1\n",
    "    return agent_gridworld\n",
    "\n",
    "# call get_agent_gridworld_from_knowledge_base(object_matrix) -> returns a (maze_size*maze_size) np matrix with 0s, 1s\n",
    "# Now we can call astar() on agent_gridworld like this: astar(start, agent_gridworld)"
   ]
  },
  {
   "cell_type": "code",
   "execution_count": 10,
   "metadata": {},
   "outputs": [],
   "source": [
    "def getNx(row, col, n):\n",
    "    if (row ==0  and col == 0) or (row == 0 and col == n-1) or (row==n-1 and col==0) or (row ==n-1 and col==n-1):\n",
    "        return 3\n",
    "    \n",
    "    elif row == 0 or col == 0 or col == n-1 or row == n-1:\n",
    "        return 5\n",
    "    else:\n",
    "        return 8"
   ]
  },
  {
   "cell_type": "code",
   "execution_count": 11,
   "metadata": {},
   "outputs": [],
   "source": [
    "def get_neighbors(row, col, n):\n",
    "    #top left node\n",
    "    if (row ==0  and col == 0) :\n",
    "        return [(row+1, col), (row, col+1), (row+1, col+1)]\n",
    "    \n",
    "    #top right node\n",
    "    elif (row == 0 and col == n-1):\n",
    "        return [(row, col-1), (row+1, col), (row+1, col-1)]\n",
    "    \n",
    "    #bottom left node\n",
    "    elif (row==n-1 and col==0):\n",
    "        return [(row-1, col), (row, col+1), (row-1, col+1)]\n",
    "    \n",
    "    #bottom right node\n",
    "    elif (row ==n-1 and col==n-1):\n",
    "        return [(row-1, col-1), (row, col-1), (row-1, col-1)]\n",
    "    \n",
    "    # top edge nodes\n",
    "    elif row == 0:\n",
    "        return [(row, col-1), (row+1, col-1), (row+1, col), (row+1, col+1), (row, col+1)]\n",
    "    \n",
    "    # bottom edge nodes\n",
    "    elif row == n-1:\n",
    "        return [(row, col-1), (row-1, col-1), (row-1, col), (row-1, col+1), (row, col+1)]\n",
    "    \n",
    "    # left edge nodes\n",
    "    elif col == 0:\n",
    "        return [(row-1, col), (row-1, col+1), (row, col+1), (row+1, col+1), (row+1, col)]\n",
    "    \n",
    "    # right edge nodes\n",
    "    elif col == n-1:\n",
    "        return [(row-1, col), (row-1, col-1), (row, col-1), (row+1, col-1), (row+1, col)]\n",
    "    \n"
   ]
  },
  {
   "cell_type": "code",
   "execution_count": 12,
   "metadata": {},
   "outputs": [],
   "source": [
    "def update_node_attributes(row, col, maze_size):\n",
    "    knowledge_base[row][col].Nx = getNx(row, col, maze_size)\n",
    "    knowledge_base[row][col].display_node()\n",
    "    knowledge_base[row][col].Cx = helper_matrix[row][col]\n",
    "\n",
    "    if knowledge_base[row][col].Hx != 0:\n",
    "        if knowledge_base[row][col].Cx == knowledge_base[row][col].Bx:\n",
    "            knowledge_base[row][col].Ex += knowledge_base[row][col].Hx\n",
    "            knowledge_base[row][col].Hx = 0\n",
    "            #ToDo: set all unknown neighbour to Empty\n",
    "\n",
    "        if knowledge_base[row][col].Nx - knowledge_base[row][col].Cx == knowledge_base[row][col].Ex:\n",
    "            knowledge_base[row][col].Bx += knowledge_base[row][col].Hx\n",
    "            knowledge_base[row][col].Hx = 0\n",
    "        \n",
    "        \n",
    "\n",
    "    ##ToDo:\n",
    "    #knowledge_base[node].Hx = \n",
    "    #knowledge_base[node].Bx = 0\n",
    "    #knowledge_base[node].Ex = 0"
   ]
  },
  {
   "cell_type": "markdown",
   "metadata": {},
   "source": [
    "# Code for Agent 3 goes here"
   ]
  },
  {
   "cell_type": "code",
   "execution_count": 13,
   "metadata": {},
   "outputs": [],
   "source": [
    "def agent3(maze_size):\n",
    "    agent_gridworld = np.matrix(np.zeros((maze_size, maze_size)))\n",
    "    goal = (maze_size-1, maze_size-1)\n",
    "    source = (0,0,0)\n",
    "    _,_,_,path = astar(source, agent_gridworld)\n",
    "\n",
    "    path = path[::-1] #since we have a path from goal to start, we reverse the path received from a star\n",
    "\n",
    "    knowledge_base[0][0].blocked = 0\n",
    "    print(path)\n",
    "    \n",
    "    for node in path:\n",
    "        row = node[0]\n",
    "        col = node[1]\n",
    "        print(row,col)\n",
    "\n",
    "        knowledge_base[row][col].visited = True\n",
    "        knowledge_base[row][col].blocked = block_unblock_matrix.item((row, col))\n",
    "        neighborlist = get_neighbors(row, col, maze_size)\n",
    "\n",
    "        if knowledge_base[row][col].blocked == 0:\n",
    "            update_node_attributes(row, col,maze_size)\n",
    "                    #ToDo: set all unknown neighbour to Blocked\n",
    "                    # check if those blocked cells are in \"path\" ,if yes, then replan-> call astar\n",
    "                #ToDo: update attributes of parent recursively\n",
    "        else:\n",
    "            agent_gridworld.itemset((row, col), 1)\n",
    "            knowledge_base[row][col].blocked = 1\n",
    "            #ToDo path = astar(node->parent, agent_gridworld)\n",
    "            ##break ??"
   ]
  },
  {
   "cell_type": "code",
   "execution_count": 14,
   "metadata": {},
   "outputs": [
    {
     "name": "stdout",
     "output_type": "stream",
     "text": [
      "[[0. 0. 0. 0. 0. 0. 0. 0. 0. 0.]\n",
      " [0. 0. 0. 0. 0. 0. 0. 0. 0. 0.]\n",
      " [0. 0. 0. 0. 0. 0. 0. 0. 0. 0.]\n",
      " [0. 0. 0. 0. 0. 0. 0. 0. 0. 0.]\n",
      " [0. 0. 0. 0. 0. 0. 0. 0. 0. 0.]\n",
      " [0. 0. 0. 0. 0. 0. 0. 0. 0. 0.]\n",
      " [0. 0. 0. 0. 0. 0. 0. 0. 0. 0.]\n",
      " [0. 0. 0. 0. 0. 0. 0. 0. 0. 0.]\n",
      " [0. 0. 0. 0. 0. 0. 0. 0. 0. 0.]\n",
      " [0. 0. 0. 0. 0. 0. 0. 0. 0. 0.]]\n",
      "[(0, 0), (0, 1), (1, 1), (2, 1), (3, 1), (4, 1), (5, 1), (6, 1), (7, 1), (8, 1), (9, 1), (9, 2), (9, 3), (9, 4), (9, 5), (9, 6), (9, 7), (9, 8), (9, 9)]\n",
      "0 0\n",
      "The Node:  0 , 0\n",
      "\n",
      " the number of neighbors cell x has:  3\n",
      "visited  Whether or not cell x has been visited:  True\n",
      "blocked  Whether or not cell x has been confirmed as empty or blocked, or is currently unconfirmed:  0\n",
      "the number of neighbors of x that are sensed to be blocked:  0\n",
      "the number of neighbors of x that have been confirmed to be blocked:  0\n",
      "the number of neighbors of x that have been confirmed to be empty:  0\n",
      "the number of neighbors of x that are still hidden or unconfirmed either way:  0\n",
      "0 1\n",
      "The Node:  0 , 1\n",
      "\n",
      " the number of neighbors cell x has:  5\n",
      "visited  Whether or not cell x has been visited:  True\n",
      "blocked  Whether or not cell x has been confirmed as empty or blocked, or is currently unconfirmed:  0\n",
      "the number of neighbors of x that are sensed to be blocked:  0\n",
      "the number of neighbors of x that have been confirmed to be blocked:  0\n",
      "the number of neighbors of x that have been confirmed to be empty:  0\n",
      "the number of neighbors of x that are still hidden or unconfirmed either way:  0\n",
      "1 1\n",
      "2 1\n",
      "The Node:  2 , 1\n",
      "\n",
      " the number of neighbors cell x has:  8\n",
      "visited  Whether or not cell x has been visited:  True\n",
      "blocked  Whether or not cell x has been confirmed as empty or blocked, or is currently unconfirmed:  0\n",
      "the number of neighbors of x that are sensed to be blocked:  0\n",
      "the number of neighbors of x that have been confirmed to be blocked:  0\n",
      "the number of neighbors of x that have been confirmed to be empty:  0\n",
      "the number of neighbors of x that are still hidden or unconfirmed either way:  0\n",
      "3 1\n",
      "4 1\n",
      "5 1\n",
      "6 1\n",
      "The Node:  6 , 1\n",
      "\n",
      " the number of neighbors cell x has:  8\n",
      "visited  Whether or not cell x has been visited:  True\n",
      "blocked  Whether or not cell x has been confirmed as empty or blocked, or is currently unconfirmed:  0\n",
      "the number of neighbors of x that are sensed to be blocked:  0\n",
      "the number of neighbors of x that have been confirmed to be blocked:  0\n",
      "the number of neighbors of x that have been confirmed to be empty:  0\n",
      "the number of neighbors of x that are still hidden or unconfirmed either way:  0\n",
      "7 1\n",
      "8 1\n",
      "The Node:  8 , 1\n",
      "\n",
      " the number of neighbors cell x has:  8\n",
      "visited  Whether or not cell x has been visited:  True\n",
      "blocked  Whether or not cell x has been confirmed as empty or blocked, or is currently unconfirmed:  0\n",
      "the number of neighbors of x that are sensed to be blocked:  0\n",
      "the number of neighbors of x that have been confirmed to be blocked:  0\n",
      "the number of neighbors of x that have been confirmed to be empty:  0\n",
      "the number of neighbors of x that are still hidden or unconfirmed either way:  0\n",
      "9 1\n",
      "The Node:  9 , 1\n",
      "\n",
      " the number of neighbors cell x has:  5\n",
      "visited  Whether or not cell x has been visited:  True\n",
      "blocked  Whether or not cell x has been confirmed as empty or blocked, or is currently unconfirmed:  0\n",
      "the number of neighbors of x that are sensed to be blocked:  0\n",
      "the number of neighbors of x that have been confirmed to be blocked:  0\n",
      "the number of neighbors of x that have been confirmed to be empty:  0\n",
      "the number of neighbors of x that are still hidden or unconfirmed either way:  0\n",
      "9 2\n",
      "The Node:  9 , 2\n",
      "\n",
      " the number of neighbors cell x has:  5\n",
      "visited  Whether or not cell x has been visited:  True\n",
      "blocked  Whether or not cell x has been confirmed as empty or blocked, or is currently unconfirmed:  0\n",
      "the number of neighbors of x that are sensed to be blocked:  0\n",
      "the number of neighbors of x that have been confirmed to be blocked:  0\n",
      "the number of neighbors of x that have been confirmed to be empty:  0\n",
      "the number of neighbors of x that are still hidden or unconfirmed either way:  0\n",
      "9 3\n",
      "The Node:  9 , 3\n",
      "\n",
      " the number of neighbors cell x has:  5\n",
      "visited  Whether or not cell x has been visited:  True\n",
      "blocked  Whether or not cell x has been confirmed as empty or blocked, or is currently unconfirmed:  0\n",
      "the number of neighbors of x that are sensed to be blocked:  0\n",
      "the number of neighbors of x that have been confirmed to be blocked:  0\n",
      "the number of neighbors of x that have been confirmed to be empty:  0\n",
      "the number of neighbors of x that are still hidden or unconfirmed either way:  0\n",
      "9 4\n",
      "9 5\n",
      "9 6\n",
      "The Node:  9 , 6\n",
      "\n",
      " the number of neighbors cell x has:  5\n",
      "visited  Whether or not cell x has been visited:  True\n",
      "blocked  Whether or not cell x has been confirmed as empty or blocked, or is currently unconfirmed:  0\n",
      "the number of neighbors of x that are sensed to be blocked:  0\n",
      "the number of neighbors of x that have been confirmed to be blocked:  0\n",
      "the number of neighbors of x that have been confirmed to be empty:  0\n",
      "the number of neighbors of x that are still hidden or unconfirmed either way:  0\n",
      "9 7\n",
      "The Node:  9 , 7\n",
      "\n",
      " the number of neighbors cell x has:  5\n",
      "visited  Whether or not cell x has been visited:  True\n",
      "blocked  Whether or not cell x has been confirmed as empty or blocked, or is currently unconfirmed:  0\n",
      "the number of neighbors of x that are sensed to be blocked:  0\n",
      "the number of neighbors of x that have been confirmed to be blocked:  0\n",
      "the number of neighbors of x that have been confirmed to be empty:  0\n",
      "the number of neighbors of x that are still hidden or unconfirmed either way:  0\n",
      "9 8\n",
      "The Node:  9 , 8\n",
      "\n",
      " the number of neighbors cell x has:  5\n",
      "visited  Whether or not cell x has been visited:  True\n",
      "blocked  Whether or not cell x has been confirmed as empty or blocked, or is currently unconfirmed:  0\n",
      "the number of neighbors of x that are sensed to be blocked:  0\n",
      "the number of neighbors of x that have been confirmed to be blocked:  0\n",
      "the number of neighbors of x that have been confirmed to be empty:  0\n",
      "the number of neighbors of x that are still hidden or unconfirmed either way:  0\n",
      "9 9\n",
      "The Node:  9 , 9\n",
      "\n",
      " the number of neighbors cell x has:  3\n",
      "visited  Whether or not cell x has been visited:  True\n",
      "blocked  Whether or not cell x has been confirmed as empty or blocked, or is currently unconfirmed:  0\n",
      "the number of neighbors of x that are sensed to be blocked:  0\n",
      "the number of neighbors of x that have been confirmed to be blocked:  0\n",
      "the number of neighbors of x that have been confirmed to be empty:  0\n",
      "the number of neighbors of x that are still hidden or unconfirmed either way:  0\n"
     ]
    },
    {
     "name": "stderr",
     "output_type": "stream",
     "text": [
      "<ipython-input-7-c64d57efce2a>:7: DeprecationWarning: elementwise comparison failed; this will raise an error in the future.\n",
      "  if not full_grid_world_matrix == []:\n"
     ]
    }
   ],
   "source": [
    "initialize_helper_matrix(maze_size)\n",
    "agent3(maze_size)"
   ]
  },
  {
   "cell_type": "markdown",
   "metadata": {},
   "source": [
    "# Code for Agent 4 (our agent) goes here"
   ]
  },
  {
   "cell_type": "code",
   "execution_count": 15,
   "metadata": {},
   "outputs": [],
   "source": [
    "def agent4(): # using this name for the lack of a better name. please change.\n",
    "    source = (0,0,0)\n",
    "    _,_,_,path = astar(source,agent_gridworld)\n",
    "    goal_reached = False\n",
    "    \n",
    "    \n",
    "    while not goal_reached:\n",
    "        for node in path:\n",
    "            if full_gridworld[node] == 0:\n",
    "                #do something\n",
    "                break\n",
    "            else:\n",
    "                #do something\n",
    "                break\n",
    "    return"
   ]
  },
  {
   "cell_type": "code",
   "execution_count": null,
   "metadata": {},
   "outputs": [],
   "source": []
  }
 ],
 "metadata": {
  "kernelspec": {
   "display_name": "Python 3",
   "language": "python",
   "name": "python3"
  },
  "language_info": {
   "codemirror_mode": {
    "name": "ipython",
    "version": 3
   },
   "file_extension": ".py",
   "mimetype": "text/x-python",
   "name": "python",
   "nbconvert_exporter": "python",
   "pygments_lexer": "ipython3",
   "version": "3.8.8"
  }
 },
 "nbformat": 4,
 "nbformat_minor": 4
}
